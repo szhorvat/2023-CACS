{
 "cells": [
  {
   "cell_type": "markdown",
   "id": "6966bf8f-e49b-4a66-848c-f0d769d0fe79",
   "metadata": {},
   "source": [
    "### Representing polynomials\n",
    "\n",
    "We represent a polynomial $a_n x^n + \\dots + a_2 x^2 + a_1 x + a_0$ as a Python list of the coefficients, `a = [a0, a1, ..., an]`."
   ]
  },
  {
   "cell_type": "code",
   "execution_count": 1,
   "id": "5d4a2e80-7ec0-4b13-a500-9538cb50e1d5",
   "metadata": {
    "tags": []
   },
   "outputs": [],
   "source": [
    "# x^2 - 2x + 1\n",
    "\n",
    "p = [1, -2, 1]"
   ]
  },
  {
   "cell_type": "markdown",
   "id": "26ef2859-4084-4154-bcf6-db225a1351dc",
   "metadata": {},
   "source": [
    "### Pretty-printing\n",
    "\n",
    "Convenience functions for formatting a polynomial in an easy-to-read manner."
   ]
  },
  {
   "cell_type": "code",
   "execution_count": 2,
   "id": "de1012f3-a371-4f21-86fb-c93323b3314e",
   "metadata": {
    "tags": []
   },
   "outputs": [],
   "source": [
    "def format_monomial(a, k, x = \"x\", leading = False):\n",
    "    \"\"\"Formats a monomial in a way suitable for inclusion in a polynomial.\n",
    "    \n",
    "    The 'leading' parameter indicates special formatting for the leading\n",
    "    polynomial term.\"\"\"\n",
    "\n",
    "    parts = []\n",
    "\n",
    "    if leading:\n",
    "        if a < 0:\n",
    "            parts.append(\"-\")\n",
    "    elif a != 0:\n",
    "        parts.append(\" + \" if a > 0 else \" - \")\n",
    "\n",
    "    aa = abs(a)\n",
    "    \n",
    "    if aa != 0:\n",
    "        if aa != 1 or k == 0:\n",
    "            parts.append(f\"{aa} \" if k != 0 else str(aa))\n",
    "        if k != 0:\n",
    "            parts.append(f\"{x}^{k}\" if k != 1 else str(x)) \n",
    "\n",
    "    return \"\".join(parts)\n",
    "\n",
    "def format_polynomial(p, x = \"x\"):\n",
    "    \"\"\"Formats a polynomial in an easy to read mathematical notation.\"\"\"\n",
    "    if not p:\n",
    "        return \"0\"\n",
    "    terms = [format_monomial(a, i, x, i == len(p)-1) for i, a in enumerate(p)]\n",
    "    terms.reverse()\n",
    "    return \"\".join(terms)"
   ]
  },
  {
   "cell_type": "code",
   "execution_count": 3,
   "id": "0dfc140e-4309-4a88-bc0f-0aee5350c82b",
   "metadata": {
    "tags": []
   },
   "outputs": [
    {
     "data": {
      "text/plain": [
       "'x^2 - 2 x + 1'"
      ]
     },
     "execution_count": 3,
     "metadata": {},
     "output_type": "execute_result"
    }
   ],
   "source": [
    "format_polynomial(p)"
   ]
  },
  {
   "cell_type": "code",
   "execution_count": 4,
   "id": "ccb93e55-a02a-4b3e-8a1c-f9e8bc197869",
   "metadata": {
    "tags": []
   },
   "outputs": [
    {
     "data": {
      "text/plain": [
       "'3 x^4 - x^2 + 5 x - 4'"
      ]
     },
     "execution_count": 4,
     "metadata": {},
     "output_type": "execute_result"
    }
   ],
   "source": [
    "format_polynomial([-4, 5, -1, 0, 3])"
   ]
  },
  {
   "cell_type": "markdown",
   "id": "0f9ae11a-8c70-4f53-930f-814305db8dd5",
   "metadata": {},
   "source": [
    "Format the pretty-printed form using LaTeX:"
   ]
  },
  {
   "cell_type": "code",
   "execution_count": 5,
   "id": "300f52ee-a863-4f7b-ad4a-372876dab039",
   "metadata": {
    "tags": []
   },
   "outputs": [
    {
     "data": {
      "text/latex": [
       "$\\displaystyle 3 x^4 - x^2 + 5 x - 4$"
      ],
      "text/plain": [
       "<IPython.core.display.Math object>"
      ]
     },
     "metadata": {},
     "output_type": "display_data"
    }
   ],
   "source": [
    "from IPython.display import display, Math\n",
    "\n",
    "display(Math(format_polynomial([-4, 5, -1, 0, 3])))"
   ]
  },
  {
   "cell_type": "markdown",
   "id": "d979940a-9d8d-4f07-bba6-551762daeb22",
   "metadata": {},
   "source": [
    "### Computing the value of a polynomial\n",
    "\n",
    "An efficient way to compute the value of a polynomial is to use Horner's form. Let's write a polynomial starting with the lowest order term:\n",
    "\n",
    "$$\n",
    "a_0 + a_1 x + a_2 x^2 + \\dots a_n x^n\n",
    "$$\n",
    "\n",
    "The naive way to compute an integer power $n$ requires $n-1$ multiplications. Let us rewrite the polynomial as follows:\n",
    "\n",
    "$$\n",
    "a_0 + x \\Bigl(a_1 + x \\bigl(a_2 + \\dots + x(a_{n-1} + x a_n)\\dots\\bigr)\\Bigr)\n",
    "$$\n",
    "\n",
    "This is called Horner's form.\n",
    "\n",
    "**Question:** How many multiplications are involved?"
   ]
  },
  {
   "cell_type": "code",
   "execution_count": 6,
   "id": "761dc751-742d-4f14-9dbb-46bef5af0f03",
   "metadata": {
    "tags": []
   },
   "outputs": [],
   "source": [
    "def polynomial_value(p, x):\n",
    "    \"\"\"Computes the value of polynomial p using Horner's method.\"\"\"\n",
    "    res = 0\n",
    "    for a in reversed(p):\n",
    "        res = res*x + a\n",
    "    return res"
   ]
  },
  {
   "cell_type": "code",
   "execution_count": 7,
   "id": "9cfd4f3d-8710-4d8c-b1cb-3685d3ee486d",
   "metadata": {
    "tags": []
   },
   "outputs": [
    {
     "data": {
      "text/plain": [
       "'0.2 x^5 - 0.25 x^4 + 0.3333333333333333 x^3 - 0.5 x^2 + x'"
      ]
     },
     "execution_count": 7,
     "metadata": {},
     "output_type": "execute_result"
    }
   ],
   "source": [
    "p = [0, 1, -1/2, 1/3, -1/4, 1/5]\n",
    "format_polynomial(p)"
   ]
  },
  {
   "cell_type": "code",
   "execution_count": 8,
   "id": "a99366ff-dd5d-4922-894d-545b4e229cdc",
   "metadata": {
    "tags": []
   },
   "outputs": [
    {
     "data": {
      "text/plain": [
       "0.40729166666666666"
      ]
     },
     "execution_count": 8,
     "metadata": {},
     "output_type": "execute_result"
    }
   ],
   "source": [
    "polynomial_value(p, 0.5)"
   ]
  },
  {
   "cell_type": "markdown",
   "id": "4e10c8d6-8562-4271-8ad5-9bc998572071",
   "metadata": {},
   "source": [
    "### Multiplying polynomials\n",
    "\n",
    "The order of the result is the sum of the orders of the inputs. We multiply each pair of terms separately, then accumulate the results. Observe that $x^i x^j = x^{i+j}$."
   ]
  },
  {
   "cell_type": "code",
   "execution_count": 9,
   "id": "5fcdc865-87ba-47ba-8145-355b3262ef51",
   "metadata": {
    "tags": []
   },
   "outputs": [],
   "source": [
    "def polynomial_order(p):\n",
    "    \"\"\"The order of polynomial p.\"\"\"\n",
    "    return len(p) - 1\n",
    "\n",
    "def polynomial_product(p, q):\n",
    "    \"\"\"The product of polynomials p and q.\"\"\"\n",
    "    # The order of the product:\n",
    "    np = polynomial_order(p)\n",
    "    nq = polynomial_order(q)\n",
    "    n = np + nq\n",
    "    # Initialize coefficients as zeros:\n",
    "    r = [0] * (n+1)\n",
    "    # Accumulate final values in a nested loop:\n",
    "    for i in range(np+1):\n",
    "        for j in range(nq+1):\n",
    "            r[i+j] += p[i] * q[j]\n",
    "    return r"
   ]
  },
  {
   "cell_type": "code",
   "execution_count": 10,
   "id": "3de0eb07-f274-4cc1-8467-c34e4cbc2360",
   "metadata": {
    "tags": []
   },
   "outputs": [
    {
     "name": "stdout",
     "output_type": "stream",
     "text": [
      "x^2 - 3 x + 1\n",
      "x^2 + 3 x - 1\n"
     ]
    }
   ],
   "source": [
    "p = [1, -3, 1]\n",
    "q = [-1, 3, 1]\n",
    "\n",
    "print(format_polynomial(p))\n",
    "print(format_polynomial(q))"
   ]
  },
  {
   "cell_type": "code",
   "execution_count": 11,
   "id": "cc3802c0-f3bc-4c3b-a2ca-44f15b691f94",
   "metadata": {
    "tags": []
   },
   "outputs": [
    {
     "data": {
      "text/plain": [
       "'x^4 - 9 x^2 + 6 x - 1'"
      ]
     },
     "execution_count": 11,
     "metadata": {},
     "output_type": "execute_result"
    }
   ],
   "source": [
    "r = polynomial_product(p,q)\n",
    "format_polynomial(r)"
   ]
  },
  {
   "cell_type": "code",
   "execution_count": 12,
   "id": "0c7af2e4-3753-4100-b200-68e040edb761",
   "metadata": {
    "tags": []
   },
   "outputs": [
    {
     "data": {
      "text/plain": [
       "17"
      ]
     },
     "execution_count": 12,
     "metadata": {},
     "output_type": "execute_result"
    }
   ],
   "source": [
    "polynomial_value(p,3) * polynomial_value(q,3)"
   ]
  },
  {
   "cell_type": "code",
   "execution_count": 13,
   "id": "52103cb0-734c-4808-9181-c6e5ea0b9d41",
   "metadata": {
    "tags": []
   },
   "outputs": [
    {
     "data": {
      "text/plain": [
       "17"
      ]
     },
     "execution_count": 13,
     "metadata": {},
     "output_type": "execute_result"
    }
   ],
   "source": [
    "polynomial_value(r,3)"
   ]
  },
  {
   "cell_type": "markdown",
   "id": "28609797-983c-4aaa-b919-f574fdc182b0",
   "metadata": {},
   "source": [
    "### Exact arithmetic\n",
    "\n",
    "We can do exact arithmetic using the [`fractions` module](https://docs.python.org/3/library/fractions.html)."
   ]
  },
  {
   "cell_type": "code",
   "execution_count": 14,
   "id": "49b6761d-9b19-494d-9694-fb1c68f1f46d",
   "metadata": {
    "tags": []
   },
   "outputs": [],
   "source": [
    "from fractions import Fraction"
   ]
  },
  {
   "cell_type": "code",
   "execution_count": 15,
   "id": "34be5245-0822-4c7f-8ea6-44d49dc361bf",
   "metadata": {
    "tags": []
   },
   "outputs": [],
   "source": [
    "p = [Fraction(f) for f in [0, 1, '-1/2', '1/3', '-1/4', '1/5']]"
   ]
  },
  {
   "cell_type": "code",
   "execution_count": 16,
   "id": "6edd73f0-2f8a-40b1-a1c1-4d83023aa310",
   "metadata": {
    "tags": []
   },
   "outputs": [
    {
     "data": {
      "text/plain": [
       "'1/5 x^5 - 1/4 x^4 + 1/3 x^3 - 1/2 x^2 + x'"
      ]
     },
     "execution_count": 16,
     "metadata": {},
     "output_type": "execute_result"
    }
   ],
   "source": [
    "format_polynomial(p)"
   ]
  },
  {
   "cell_type": "code",
   "execution_count": 17,
   "id": "0fc4e55a-5b2c-4f95-a29b-3e9e5cce8c55",
   "metadata": {
    "tags": []
   },
   "outputs": [
    {
     "name": "stdout",
     "output_type": "stream",
     "text": [
      "391/960\n"
     ]
    }
   ],
   "source": [
    "print(polynomial_value(p, Fraction('1/2')))"
   ]
  },
  {
   "cell_type": "code",
   "execution_count": 18,
   "id": "562f7d3e-8498-4f00-bb94-5c518c1e3a0a",
   "metadata": {
    "tags": []
   },
   "outputs": [
    {
     "data": {
      "text/plain": [
       "0.40729166666666666"
      ]
     },
     "execution_count": 18,
     "metadata": {},
     "output_type": "execute_result"
    }
   ],
   "source": [
    "polynomial_value(p, 0.5)"
   ]
  },
  {
   "cell_type": "code",
   "execution_count": null,
   "id": "48105eb6-5709-4746-bcbf-f25bf6c03aa6",
   "metadata": {},
   "outputs": [],
   "source": []
  }
 ],
 "metadata": {
  "kernelspec": {
   "display_name": "cacs",
   "language": "python",
   "name": "cacs"
  },
  "language_info": {
   "codemirror_mode": {
    "name": "ipython",
    "version": 3
   },
   "file_extension": ".py",
   "mimetype": "text/x-python",
   "name": "python",
   "nbconvert_exporter": "python",
   "pygments_lexer": "ipython3",
   "version": "3.11.4"
  }
 },
 "nbformat": 4,
 "nbformat_minor": 5
}
